{
 "cells": [
  {
   "cell_type": "code",
   "execution_count": 1,
   "id": "2f0ce50f",
   "metadata": {},
   "outputs": [
    {
     "name": "stderr",
     "output_type": "stream",
     "text": [
      "/Users/merrickpiersonsmela/anaconda3/lib/python3.7/site-packages/ipykernel_launcher.py:10: RuntimeWarning: divide by zero encountered in power\n",
      "  # Remove the CWD from sys.path while we load stuff.\n"
     ]
    },
    {
     "data": {
      "image/png": "[encoded data removed]",
      "text/plain": [
       "<Figure size 432x288 with 1 Axes>"
      ]
     },
     "metadata": {
      "needs_background": "light"
     },
     "output_type": "display_data"
    }
   ],
   "source": [
    "#Source: https://people.duke.edu/~ccc14/pcfb/analysis.html\n",
    "\n",
    "import numpy as np\n",
    "import numpy.random as npr\n",
    "import matplotlib.pyplot as plt\n",
    "from scipy.optimize import leastsq\n",
    "\n",
    "def logistic4(x, A, B, C, D):\n",
    "    \"\"\"4PL logistic equation.\"\"\"\n",
    "    return ((A-D)/(1.0+((x/C)**B))) + D\n",
    "\n",
    "def residuals(p, y, x):\n",
    "    \"\"\"Deviations of data from fitted 4PL curve\"\"\"\n",
    "    A,B,C,D = p\n",
    "    err = y-logistic4(x, A, B, C, D)\n",
    "    return err\n",
    "\n",
    "def peval(x, p):\n",
    "    \"\"\"Evaluated value at x with current parameters.\"\"\"\n",
    "    A,B,C,D = p\n",
    "    return logistic4(x, A, B, C, D)\n",
    "\n",
    "# Make up some data for fitting and add noise\n",
    "# In practice, y_meas would be read in from a file\n",
    "x = np.linspace(0,20,20)\n",
    "A,B,C,D = 0.5,2.5,8,7.3\n",
    "y_true = logistic4(x, A, B, C, D)\n",
    "y_meas = y_true + 0.2*npr.randn(len(x))\n",
    "\n",
    "# Initial guess for parameters\n",
    "p0 = [0, 1, 1, 1]\n",
    "\n",
    "# Fit equation using least squares optimization\n",
    "plsq = leastsq(residuals, p0, args=(y_meas, x))\n",
    "\n",
    "# Plot results\n",
    "plt.plot(x,peval(x,plsq[0]),x,y_meas,'o',x,y_true)\n",
    "plt.title('Least-squares 4PL fit to noisy data')\n",
    "plt.legend(['Fit', 'Noisy', 'True'], loc='upper left')\n",
    "for i, (param, actual, est) in enumerate(zip('ABCD', [A,B,C,D], plsq[0])):\n",
    "    plt.text(10, 3-i*0.5, '%s = %.2f, est(%s) = %.2f' % (param, actual, param, est))\n",
    "#plt.savefig('logistic.png')"
   ]
  },
  {
   "cell_type": "code",
   "execution_count": 2,
   "id": "ce307154",
   "metadata": {},
   "outputs": [
    {
     "data": {
      "text/html": [
       "<div>\n",
       "<style scoped>\n",
       "    .dataframe tbody tr th:only-of-type {\n",
       "        vertical-align: middle;\n",
       "    }\n",
       "\n",
       "    .dataframe tbody tr th {\n",
       "        vertical-align: top;\n",
       "    }\n",
       "\n",
       "    .dataframe thead th {\n",
       "        text-align: right;\n",
       "    }\n",
       "</style>\n",
       "<table border=\"1\" class=\"dataframe\">\n",
       "  <thead>\n",
       "    <tr style=\"text-align: right;\">\n",
       "      <th></th>\n",
       "      <th>pg_mL</th>\n",
       "      <th>A450_corrected</th>\n",
       "    </tr>\n",
       "  </thead>\n",
       "  <tbody>\n",
       "    <tr>\n",
       "      <th>0</th>\n",
       "      <td>40000</td>\n",
       "      <td>0.183</td>\n",
       "    </tr>\n",
       "    <tr>\n",
       "      <th>1</th>\n",
       "      <td>15000</td>\n",
       "      <td>0.248</td>\n",
       "    </tr>\n",
       "    <tr>\n",
       "      <th>2</th>\n",
       "      <td>5000</td>\n",
       "      <td>0.360</td>\n",
       "    </tr>\n",
       "    <tr>\n",
       "      <th>3</th>\n",
       "      <td>2500</td>\n",
       "      <td>0.511</td>\n",
       "    </tr>\n",
       "    <tr>\n",
       "      <th>4</th>\n",
       "      <td>1250</td>\n",
       "      <td>0.712</td>\n",
       "    </tr>\n",
       "    <tr>\n",
       "      <th>5</th>\n",
       "      <td>300</td>\n",
       "      <td>1.217</td>\n",
       "    </tr>\n",
       "    <tr>\n",
       "      <th>6</th>\n",
       "      <td>0</td>\n",
       "      <td>1.688</td>\n",
       "    </tr>\n",
       "  </tbody>\n",
       "</table>\n",
       "</div>"
      ],
      "text/plain": [
       "   pg_mL  A450_corrected\n",
       "0  40000           0.183\n",
       "1  15000           0.248\n",
       "2   5000           0.360\n",
       "3   2500           0.511\n",
       "4   1250           0.712\n",
       "5    300           1.217\n",
       "6      0           1.688"
      ]
     },
     "execution_count": 2,
     "metadata": {},
     "output_type": "execute_result"
    }
   ],
   "source": [
    "import pandas as pd\n",
    "std_E = pd.read_csv(\"standards_estradiol.csv\")\n",
    "std_P = pd.read_csv(\"standards_progesterone.csv\")\n",
    "std_P"
   ]
  },
  {
   "cell_type": "code",
   "execution_count": 3,
   "id": "bfa876f9",
   "metadata": {},
   "outputs": [
    {
     "data": {
      "text/plain": [
       "[<matplotlib.lines.Line2D at 0x7fa3d0c22110>,\n",
       " <matplotlib.lines.Line2D at 0x7fa3d0c14fd0>]"
      ]
     },
     "execution_count": 3,
     "metadata": {},
     "output_type": "execute_result"
    },
    {
     "data": {
      "image/png": "[encoded data removed]",
      "text/plain": [
       "<Figure size 432x288 with 1 Axes>"
      ]
     },
     "metadata": {
      "needs_background": "light"
     },
     "output_type": "display_data"
    }
   ],
   "source": [
    "y1_E = std_E['A450_corrected']\n",
    "x1_E = std_E['pg_mL']\n",
    "\n",
    "guess = [2, 1, 500, 0]\n",
    "\n",
    "fit_E = leastsq(residuals, guess, args=(y1_E, x1_E))\n",
    "\n",
    "\n",
    "test = np.linspace(0,2000, 50)\n",
    "test\n",
    "\n",
    "plt.plot(test,peval(test,fit_E[0]),x1_E,y1_E,'o')\n",
    "#plt.savefig('2021-10-07_standards_logistic_4param.png')"
   ]
  },
  {
   "cell_type": "code",
   "execution_count": 4,
   "id": "ed00ad35",
   "metadata": {},
   "outputs": [
    {
     "data": {
      "text/plain": [
       "(array([ 1.99890325e+00,  8.74091640e-01,  4.47975179e+02, -5.71457491e-02]),\n",
       " 1)"
      ]
     },
     "execution_count": 4,
     "metadata": {},
     "output_type": "execute_result"
    }
   ],
   "source": [
    "fit_E"
   ]
  },
  {
   "cell_type": "code",
   "execution_count": 5,
   "id": "e9296877",
   "metadata": {},
   "outputs": [
    {
     "data": {
      "text/plain": [
       "[<matplotlib.lines.Line2D at 0x7fa3a0356dd0>,\n",
       " <matplotlib.lines.Line2D at 0x7fa3a0356e90>]"
      ]
     },
     "execution_count": 5,
     "metadata": {},
     "output_type": "execute_result"
    },
    {
     "data": {
      "image/png": "[encoded data removed]",
      "text/plain": [
       "<Figure size 432x288 with 1 Axes>"
      ]
     },
     "metadata": {
      "needs_background": "light"
     },
     "output_type": "display_data"
    }
   ],
   "source": [
    "y1_P = std_P['A450_corrected']\n",
    "x1_P = std_P['pg_mL']\n",
    "\n",
    "guess = [2, 1, 500, 0]\n",
    "\n",
    "fit_P = leastsq(residuals, guess, args=(y1_P, x1_P))\n",
    "\n",
    "\n",
    "test = np.linspace(0,40000, 50)\n",
    "test\n",
    "\n",
    "plt.plot(test,peval(test,fit_P[0]),x1_P,y1_P,'o')\n",
    "#plt.savefig('2021-10-07_standards_logistic_4param.png')"
   ]
  },
  {
   "cell_type": "code",
   "execution_count": 6,
   "id": "7514ef4d",
   "metadata": {},
   "outputs": [
    {
     "name": "stderr",
     "output_type": "stream",
     "text": [
      "/Users/merrickpiersonsmela/anaconda3/lib/python3.7/site-packages/ipykernel_launcher.py:4: RuntimeWarning: invalid value encountered in power\n",
      "  after removing the cwd from sys.path.\n"
     ]
    },
    {
     "data": {
      "text/plain": [
       "[<matplotlib.lines.Line2D at 0x7fa3e06411d0>,\n",
       " <matplotlib.lines.Line2D at 0x7fa3e0641110>]"
      ]
     },
     "execution_count": 6,
     "metadata": {},
     "output_type": "execute_result"
    },
    {
     "data": {
      "image/png": "[encoded data removed]",
      "text/plain": [
       "<Figure size 432x288 with 1 Axes>"
      ]
     },
     "metadata": {
      "needs_background": "light"
     },
     "output_type": "display_data"
    }
   ],
   "source": [
    "#Interpolate using the inverse function\n",
    "#x=p(3).*(((p(1)-p(4))./(y-p(4)))-1).^(1/p(2));\n",
    "def inv_logistic4(p, y): #p = model parameters\n",
    "    x = p[2] * (((p[0]-p[3])/(y-p[3]))-1)**(1/p[1])\n",
    "    return x\n",
    "\n",
    "test2 = np.linspace(0.3, 2, 10)\n",
    "plt.plot(test,peval(test,fit_E[0]),inv_logistic4(fit_E[0], test2),test2,'o')"
   ]
  },
  {
   "cell_type": "code",
   "execution_count": 9,
   "id": "8069c53b",
   "metadata": {},
   "outputs": [
    {
     "data": {
      "text/html": [
       "<div>\n",
       "<style scoped>\n",
       "    .dataframe tbody tr th:only-of-type {\n",
       "        vertical-align: middle;\n",
       "    }\n",
       "\n",
       "    .dataframe tbody tr th {\n",
       "        vertical-align: top;\n",
       "    }\n",
       "\n",
       "    .dataframe thead th {\n",
       "        text-align: right;\n",
       "    }\n",
       "</style>\n",
       "<table border=\"1\" class=\"dataframe\">\n",
       "  <thead>\n",
       "    <tr style=\"text-align: right;\">\n",
       "      <th></th>\n",
       "      <th>Sample</th>\n",
       "      <th>A450_adj_estradiol</th>\n",
       "      <th>A450_adj_progesterone</th>\n",
       "      <th>pg_uL_estradiol</th>\n",
       "      <th>pg_uL_progesterone</th>\n",
       "    </tr>\n",
       "  </thead>\n",
       "  <tbody>\n",
       "    <tr>\n",
       "      <th>0</th>\n",
       "      <td>01_Sorted_day14</td>\n",
       "      <td>1.867</td>\n",
       "      <td>0.206</td>\n",
       "      <td>20.874008</td>\n",
       "      <td>26389.036672</td>\n",
       "    </tr>\n",
       "    <tr>\n",
       "      <th>1</th>\n",
       "      <td>02_D4_-RA_day14</td>\n",
       "      <td>1.884</td>\n",
       "      <td>0.259</td>\n",
       "      <td>17.647394</td>\n",
       "      <td>11424.713067</td>\n",
       "    </tr>\n",
       "    <tr>\n",
       "      <th>2</th>\n",
       "      <td>03_D4_+RA_day14</td>\n",
       "      <td>1.907</td>\n",
       "      <td>0.224</td>\n",
       "      <td>13.485099</td>\n",
       "      <td>18475.453961</td>\n",
       "    </tr>\n",
       "    <tr>\n",
       "      <th>3</th>\n",
       "      <td>04_13D7_pool_day2</td>\n",
       "      <td>2.039</td>\n",
       "      <td>0.310</td>\n",
       "      <td>NaN</td>\n",
       "      <td>7121.180108</td>\n",
       "    </tr>\n",
       "    <tr>\n",
       "      <th>4</th>\n",
       "      <td>05_PGCLC_Only_day2</td>\n",
       "      <td>1.946</td>\n",
       "      <td>0.519</td>\n",
       "      <td>7.009513</td>\n",
       "      <td>2401.430926</td>\n",
       "    </tr>\n",
       "    <tr>\n",
       "      <th>5</th>\n",
       "      <td>06_D4_day2</td>\n",
       "      <td>2.022</td>\n",
       "      <td>0.327</td>\n",
       "      <td>NaN</td>\n",
       "      <td>6281.818974</td>\n",
       "    </tr>\n",
       "    <tr>\n",
       "      <th>6</th>\n",
       "      <td>07_E1_day2</td>\n",
       "      <td>1.934</td>\n",
       "      <td>0.075</td>\n",
       "      <td>8.917564</td>\n",
       "      <td>NaN</td>\n",
       "    </tr>\n",
       "    <tr>\n",
       "      <th>7</th>\n",
       "      <td>08_F66.6_NR1_day2</td>\n",
       "      <td>2.022</td>\n",
       "      <td>0.169</td>\n",
       "      <td>NaN</td>\n",
       "      <td>143711.206762</td>\n",
       "    </tr>\n",
       "    <tr>\n",
       "      <th>8</th>\n",
       "      <td>09_F66.6_NR5_day2</td>\n",
       "      <td>2.064</td>\n",
       "      <td>0.498</td>\n",
       "      <td>NaN</td>\n",
       "      <td>2606.361140</td>\n",
       "    </tr>\n",
       "    <tr>\n",
       "      <th>9</th>\n",
       "      <td>10_F66.6_NRG3_day2</td>\n",
       "      <td>2.099</td>\n",
       "      <td>0.247</td>\n",
       "      <td>NaN</td>\n",
       "      <td>13190.889474</td>\n",
       "    </tr>\n",
       "    <tr>\n",
       "      <th>10</th>\n",
       "      <td>11_F66.6_NRS2_day2</td>\n",
       "      <td>2.067</td>\n",
       "      <td>0.117</td>\n",
       "      <td>NaN</td>\n",
       "      <td>NaN</td>\n",
       "    </tr>\n",
       "    <tr>\n",
       "      <th>11</th>\n",
       "      <td>No_Cells</td>\n",
       "      <td>2.073</td>\n",
       "      <td>1.093</td>\n",
       "      <td>NaN</td>\n",
       "      <td>434.061685</td>\n",
       "    </tr>\n",
       "  </tbody>\n",
       "</table>\n",
       "</div>"
      ],
      "text/plain": [
       "                Sample  A450_adj_estradiol  A450_adj_progesterone  \\\n",
       "0      01_Sorted_day14               1.867                  0.206   \n",
       "1      02_D4_-RA_day14               1.884                  0.259   \n",
       "2      03_D4_+RA_day14               1.907                  0.224   \n",
       "3    04_13D7_pool_day2               2.039                  0.310   \n",
       "4   05_PGCLC_Only_day2               1.946                  0.519   \n",
       "5           06_D4_day2               2.022                  0.327   \n",
       "6           07_E1_day2               1.934                  0.075   \n",
       "7    08_F66.6_NR1_day2               2.022                  0.169   \n",
       "8    09_F66.6_NR5_day2               2.064                  0.498   \n",
       "9   10_F66.6_NRG3_day2               2.099                  0.247   \n",
       "10  11_F66.6_NRS2_day2               2.067                  0.117   \n",
       "11            No_Cells               2.073                  1.093   \n",
       "\n",
       "    pg_uL_estradiol  pg_uL_progesterone  \n",
       "0         20.874008        26389.036672  \n",
       "1         17.647394        11424.713067  \n",
       "2         13.485099        18475.453961  \n",
       "3               NaN         7121.180108  \n",
       "4          7.009513         2401.430926  \n",
       "5               NaN         6281.818974  \n",
       "6          8.917564                 NaN  \n",
       "7               NaN       143711.206762  \n",
       "8               NaN         2606.361140  \n",
       "9               NaN        13190.889474  \n",
       "10              NaN                 NaN  \n",
       "11              NaN          434.061685  "
      ]
     },
     "execution_count": 9,
     "metadata": {},
     "output_type": "execute_result"
    }
   ],
   "source": [
    "data = pd.read_csv(\"data_all.csv\")\n",
    "data[\"pg_uL_estradiol\"] = inv_logistic4(fit_E[0], data[\"A450_adj_estradiol\"])\n",
    "data[\"pg_uL_progesterone\"] = inv_logistic4(fit_P[0], data[\"A450_adj_progesterone\"])\n",
    "data"
   ]
  },
  {
   "cell_type": "code",
   "execution_count": 10,
   "id": "422e4c60",
   "metadata": {},
   "outputs": [],
   "source": [
    "data.to_csv(\"2022-03-08_hormones.csv\")"
   ]
  },
  {
   "cell_type": "code",
   "execution_count": null,
   "id": "5cd405a9",
   "metadata": {},
   "outputs": [],
   "source": []
  }
 ],
 "metadata": {
  "kernelspec": {
   "display_name": "Python 3",
   "language": "python",
   "name": "python3"
  },
  "language_info": {
   "codemirror_mode": {
    "name": "ipython",
    "version": 3
   },
   "file_extension": ".py",
   "mimetype": "text/x-python",
   "name": "python",
   "nbconvert_exporter": "python",
   "pygments_lexer": "ipython3",
   "version": "3.7.8"
  }
 },
 "nbformat": 4,
 "nbformat_minor": 5
}
